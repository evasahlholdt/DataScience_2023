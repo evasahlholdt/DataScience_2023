{
 "cells": [
  {
   "attachments": {},
   "cell_type": "markdown",
   "metadata": {},
   "source": [
    "# To do: \n",
    "\n",
    "**un-scale predictions**\n",
    "\n",
    "**modify eval_model to plot all lines in one plot**\n",
    "\n",
    "**figure out why the test predictions are in the future, not the test phase**"
   ]
  },
  {
   "attachments": {},
   "cell_type": "markdown",
   "metadata": {},
   "source": [
    "**The current notebook is inspired from:**\n",
    "\n",
    "Local methods: \n",
    "\n",
    "https://unit8co.github.io/darts/examples/14-transfer-learning.html#Part-1:-Local-models-on-the-air-dataset \n",
    "\n",
    "Transformer model: \n",
    "\n",
    "https://unit8co.github.io/darts/examples/06-Transformer-examples.html\n",
    "\n",
    "Hyperparameter tuning:\n",
    "\n",
    "https://unit8co.github.io/darts/examples/17-hyperparameter-optimization.html\n",
    "\n",
    "https://unit8co.github.io/darts/generated_api/darts.models.forecasting.transformer_model.html"
   ]
  },
  {
   "attachments": {},
   "cell_type": "markdown",
   "metadata": {},
   "source": [
    "**Install and import packages**"
   ]
  },
  {
   "cell_type": "code",
   "execution_count": null,
   "metadata": {},
   "outputs": [],
   "source": [
    "%pip install --upgrade jupyter\n",
    "%pip install pandas\n",
    "%pip install cmake\n",
    "%pip install lightgbm\n",
    "%pip install darts\n",
    "%pip install seaborn\n",
    "%pip install optuna\n",
    "%pip install matplotlib\n",
    "%pip install joblib\n",
    "%pip install seaborn\n",
    "%pip install tqdm\n",
    "%pip install torch\n",
    "%pip install sklearn\n",
    "%pip install scikit-learn\n",
    "%pip install pandas_profiling"
   ]
  },
  {
   "cell_type": "code",
   "execution_count": 2,
   "metadata": {},
   "outputs": [],
   "source": [
    "#Imports\n",
    "\n",
    "# multiprocessing\n",
    "from joblib import Parallel, delayed\n",
    "\n",
    "# data manipulation\n",
    "import numpy as np\n",
    "import pandas as pd\n",
    "import heapq\n",
    "\n",
    "# data visualization\n",
    "import matplotlib.pyplot as plt\n",
    "%matplotlib inline\n",
    "import seaborn as sns\n",
    "from tqdm import tqdm\n",
    "\n",
    "#hmm needed? \n",
    "import torch\n",
    "import torch.nn as nn\n",
    "#from torch import nn\n",
    "import torch.optim as optim\n",
    "import shutil\n",
    "import sklearn\n",
    "from sklearn.preprocessing import MinMaxScaler\n",
    "#from tqdm import tqdm_notebook as tqdm\n",
    "\n",
    "#darts\n",
    "# transformers and preprocessing\n",
    "import darts\n",
    "from darts import TimeSeries\n",
    "from darts.dataprocessing.transformers import Scaler\n",
    "from darts.utils.utils import SeasonalityMode, TrendMode, ModelMode\n",
    "from darts.utils.statistics import check_seasonality, plot_acf\n",
    "from darts.utils.timeseries_generation import datetime_attribute_timeseries\n",
    "from darts.models import * #everything\n",
    "\n",
    "#loss metrics\n",
    "from darts.metrics import mape\n",
    "from darts.metrics import smape\n",
    "from darts.utils.losses import SmapeLoss\n",
    "\n",
    "# likelihood\n",
    "from darts.utils.likelihood_models import GaussianLikelihood\n",
    "\n",
    "# settings\n",
    "import warnings\n",
    "warnings.filterwarnings(\"ignore\")\n",
    "import logging\n",
    "logging.disable(logging.CRITICAL)\n",
    "\n",
    "#hyperparameter tuning\n",
    "import optuna\n",
    "from optuna.integration import PyTorchLightningPruningCallback\n",
    "from optuna.visualization import (\n",
    "    plot_optimization_history,\n",
    "    plot_contour,\n",
    "    plot_param_importances,\n",
    ")\n",
    "from pytorch_lightning.callbacks import Callback, EarlyStopping\n",
    "from sklearn.preprocessing import MaxAbsScaler\n",
    "\n",
    "#extras\n",
    "import os\n",
    "import time\n",
    "import random\n",
    "from datetime import datetime\n",
    "from itertools import product\n",
    "from typing import List, Tuple, Dict\n",
    "from sklearn.preprocessing import MaxAbsScaler\n",
    "from sklearn.linear_model import Ridge\n"
   ]
  },
  {
   "attachments": {},
   "cell_type": "markdown",
   "metadata": {},
   "source": [
    "# Load and inspect data"
   ]
  },
  {
   "attachments": {},
   "cell_type": "markdown",
   "metadata": {},
   "source": [
    "**Define loading and preprocessing function**"
   ]
  },
  {
   "cell_type": "code",
   "execution_count": 3,
   "metadata": {},
   "outputs": [],
   "source": [
    "def load_preprocess(csv_file):\n",
    "\n",
    "    ''' Loading and preprocessing data from csv. Return list of time-series IDs and preprocessed csv.'''\n",
    "\n",
    "    #Read data\n",
    "    raw_data = pd.read_csv(csv_file)\n",
    "\n",
    "    #Cut off before 1950\n",
    "    raw_data = raw_data[raw_data['Year'] >= 1950]\n",
    "\n",
    "    #Transform timestamp to datetime format\n",
    "    raw_data['Year'] = pd.to_datetime(raw_data['Year'], format='%Y')\n",
    "\n",
    "    #Drop \"Code\" column\n",
    "    raw_data = raw_data.drop(['Code'], axis=1)\n",
    "\n",
    "    #Rename columns\n",
    "    raw_data = raw_data.rename(columns={\"Life expectancy at birth (historical)\":\"LE\", \"Entity\":\"Country\"})\n",
    "\n",
    "    #Exclude entries that are not countries/territories\n",
    "    exclude = ['Africa', 'Asia','Americas', 'Europe', 'High-income countries', 'More developed regions','Land-locked Developing Countries (LLDC)', 'Latin America and the Caribbean','Least developed countries','Less developed regions','Less developed regions, excluding China','Less developed regions, excluding least developed countries', 'Low-income countries','Lower-middle-income countries','More developed regions','Northern America','Oceania','Small Island Developing States (SIDS)','Upper-middle-income countries','World']\n",
    "\n",
    "    # Subset the DataFrame based on the countries/territories of interest\n",
    "    data_countries = raw_data.loc[~raw_data['Country'].isin(exclude)]\n",
    "\n",
    "    #create list of countries for later\n",
    "    countries = list(data_countries[\"Country\"].unique())\n",
    "\n",
    "    #Write to csv\n",
    "    data_countries.to_csv('life_expectancy_data.csv', index=False)\n",
    "\n",
    "    #Get dataframe for further work\n",
    "    data_pd = pd.DataFrame(data_countries)\n",
    "\n",
    "    return countries, data_pd"
   ]
  },
  {
   "attachments": {},
   "cell_type": "markdown",
   "metadata": {},
   "source": [
    "# Exploratory analysis\n",
    "\n",
    "We leverage Pandas Profiling Report to get an idea of our data structure. It includes various statistics.\n",
    "\n",
    "To check autocorrelation, we need to this for each time series individually. \n"
   ]
  },
  {
   "cell_type": "code",
   "execution_count": null,
   "metadata": {},
   "outputs": [],
   "source": [
    "from pandas_profiling import ProfileReport\n",
    "\n",
    "profile = ProfileReport(data_pd, tsmode=True, sortby=\"Year\")\n",
    "profile.to_file('profile_report.html')\n",
    "profile"
   ]
  },
  {
   "attachments": {},
   "cell_type": "markdown",
   "metadata": {},
   "source": [
    "**Autocorrelation**"
   ]
  },
  {
   "cell_type": "code",
   "execution_count": 32,
   "metadata": {},
   "outputs": [
    {
     "name": "stdout",
     "output_type": "stream",
     "text": [
      "0.9874793805916966\n",
      "0.028249862885003686\n",
      "0.9969719707409795\n"
     ]
    }
   ],
   "source": [
    "#Pivot DataFrame\n",
    "data_wide = data_pd.pivot(index='Year', columns='Country', values='LE')\n",
    "\n",
    "#Calculate autocorrelation\n",
    "autocorr_results = data_wide.apply(lambda x: x.autocorr()) #series\n",
    "\n",
    "#Extract the mean, sd and median\n",
    "print(autocorr_results.mean())\n",
    "print(autocorr_results.std())\n",
    "print(autocorr_results.median())"
   ]
  },
  {
   "attachments": {},
   "cell_type": "markdown",
   "metadata": {},
   "source": [
    "**Visualize a subset of countries**"
   ]
  },
  {
   "cell_type": "code",
   "execution_count": 42,
   "metadata": {},
   "outputs": [
    {
     "data": {
      "image/png": "[encoded data removed]",
      "text/plain": [
       "<Figure size 640x480 with 1 Axes>"
      ]
     },
     "metadata": {},
     "output_type": "display_data"
    }
   ],
   "source": [
    "#Let's look at just a few countries\n",
    "countries_of_interest = ['Denmark', 'Bangladesh', 'Iran','Ghana']\n",
    "subset_df = data_pd.loc[data_pd['Country'].isin(countries_of_interest)]\n",
    "\n",
    "#Plot\n",
    "sns.lineplot(x=\"Year\", y=\"LE\",\n",
    "             hue=\"Country\",\n",
    "             data=subset_df)\n",
    "\n",
    "plt.xlabel(\"Year\")\n",
    "plt.ylabel(\"Life Expectancy\")\n",
    "plt.legend(title=\"Country\")\n",
    "plt.show()"
   ]
  },
  {
   "attachments": {},
   "cell_type": "markdown",
   "metadata": {},
   "source": [
    "# Local methods"
   ]
  },
  {
   "attachments": {},
   "cell_type": "markdown",
   "metadata": {},
   "source": [
    "**Splits**\n",
    "\n",
    "NB: These splits are chosen to accommodate comparison with the Transformer, where we need to split in validation as well. \n",
    "Therefore, the training split it slightly larger than the usual 80%.\n",
    "\n",
    "Training: 62 years (1950-2011) = 86 %. \n",
    "\n",
    "Testing: 10 years (2012-2021) = 14 %. \n",
    "\n",
    "Forecasting horizon: 10 years. \n",
    "\n"
   ]
  },
  {
   "attachments": {},
   "cell_type": "markdown",
   "metadata": {},
   "source": [
    "**Defining functions**"
   ]
  },
  {
   "cell_type": "code",
   "execution_count": 4,
   "metadata": {},
   "outputs": [],
   "source": [
    "def transform_split(dataframe: pd.DataFrame) -> Tuple[List[TimeSeries], List[TimeSeries]]:\n",
    "    ''' Transform DataFrame to TimeSeries object.\n",
    "    Split in train and test. Return full TimeSeries object, train TimeSeries object, and test TimeSeries object. '''\n",
    "    \n",
    "    #To timeseries\n",
    "    dataset_ts = TimeSeries.from_group_dataframe(df=dataframe, \n",
    "                                             group_cols=['Country'],\n",
    "                                             time_col='Year', \n",
    "                                             value_cols='LE')\n",
    "    # Split train/test\n",
    "    print(\"splitting train/test...\")\n",
    "    train: List[TimeSeries] = [s[:-HORIZON] for s in dataset_ts]\n",
    "    test: List[TimeSeries] = [s[-HORIZON:] for s in dataset_ts]\n",
    "\n",
    "    print(\"There are in total {} series\".format(len(train))),\n",
    "    print(\"Years applied for training: {}\".format(np.mean([len(s) for s in train])),\n",
    "    print(\"Years applied for testing (forecasting horizon): {}\".format(np.mean([len(s) for s in test]))\n",
    "        )\n",
    "    )\n",
    "    return dataset_ts, train, test\n",
    "\n",
    "\n",
    "def eval_forecasts(\n",
    "    name,\n",
    "    pred_series: List[TimeSeries], \n",
    "    test_or_val_series: List[TimeSeries],\n",
    ") -> List[float]:\n",
    "    ''' Computing sMAPEs between predictions and ground truth (test data). \n",
    "    Plotting the distribution and retrieving the median sMAPE. '''\n",
    "    print(\"computing sMAPEs...\")\n",
    "    smapes = smape(test_or_val_series, pred_series)\n",
    "    plt.figure()\n",
    "    plt.hist(smapes, bins=50)\n",
    "    plt.ylabel(\"Count\")\n",
    "    plt.xlabel(\"sMAPE\")\n",
    "    plt.title(\"Model: {}\".format(name))\n",
    "    subtitle = \"Median sMAPE: {:.3f} and mean sMAPE: {:.2f} +- {:.2f}\".format(np.median(smapes), np.mean(smapes), np.std(smapes))\n",
    "    plt.text(0.5, 0.92, subtitle, ha='center', va='center', transform=plt.gca().transAxes, fontsize=10)\n",
    "    plt.show()\n",
    "    plt.close()\n",
    "    return smapes\n",
    "\n",
    "\n",
    "\n",
    "def eval_local_model(\n",
    "    ID_list: List[str],\n",
    "    train_series: List[TimeSeries], \n",
    "    test_series: List[TimeSeries], \n",
    "    model_cls, \n",
    "    **kwargs\n",
    ") -> Tuple[List[float], float, List[Tuple[str, float]]]:\n",
    "\n",
    "    ''' Fitting the model of choice to training data. Retrieving predictions for a given forecasting horizon.\n",
    "    Extracting computation time. Extracting sMAPEs per time-series and the time-series with highest sMAPEs. '''\n",
    "\n",
    "    #define empty lists for predictions and processing time\n",
    "    preds = []\n",
    "    start_time = time.time()\n",
    "\n",
    "    #Fit model and predict for each series individually\n",
    "    print(\"fitting models...\")\n",
    "    for series in tqdm(train_series):\n",
    "        model = model_cls(**kwargs)\n",
    "        model.fit(series)\n",
    "        pred = model.predict(n=HORIZON)\n",
    "        preds.append(pred)\n",
    "    elapsed_time = time.time() - start_time\n",
    "\n",
    "    name = model.__class__.__name__\n",
    "\n",
    "    #Apply eval_forecasts function to extract sMAPEs and plot\n",
    "    print(\"extracting sMAPEs...\")\n",
    "    smapes = eval_forecasts(name, preds, test_series)\n",
    "\n",
    "    #Extract sMAPES per time-series and time-series with highest sMAPEs\n",
    "    smapes_pr_country = list(zip(countries, smapes))\n",
    "    highest_smapes = heapq.nlargest(10, smapes_pr_country, key=lambda x: x[1])\n",
    "    \n",
    "    return smapes, elapsed_time, smapes_pr_country, highest_smapes\n",
    "\n",
    "def plot_models(method_to_elapsed_times, method_to_smapes):\n",
    "\n",
    "    ''' Plotting the median sMAPEs for various methods as well as computation time. '''\n",
    "    \n",
    "    shapes = [\"o\", \"s\", \"*\"]\n",
    "    colors = [\"tab:blue\", \"tab:orange\", \"tab:green\", \"tab:red\", \"tab:purple\"]\n",
    "    styles = list(product(shapes, colors))\n",
    "\n",
    "    plt.figure(figsize=(6, 6), dpi=100)\n",
    "    for i, method in enumerate(method_to_elapsed_times.keys()):\n",
    "        t = method_to_elapsed_times[method]\n",
    "        s = styles[i]\n",
    "        plt.semilogx(\n",
    "            [t],\n",
    "            [np.median(method_to_smapes[method])],\n",
    "            s[0],\n",
    "            color=s[1],\n",
    "            label=method,\n",
    "            markersize=13,\n",
    "        )\n",
    "    plt.xlabel(\"elapsed time [s]\")\n",
    "    plt.ylabel(\"median sMAPE over all series\")\n",
    "    plt.legend(bbox_to_anchor=(1.4, 1.0), frameon=True);"
   ]
  },
  {
   "attachments": {},
   "cell_type": "markdown",
   "metadata": {},
   "source": [
    "**Load, preprocess, split and transform data format**"
   ]
  },
  {
   "cell_type": "code",
   "execution_count": 5,
   "metadata": {},
   "outputs": [
    {
     "name": "stdout",
     "output_type": "stream",
     "text": [
      "splitting train/test...\n",
      "There are in total 237 series\n",
      "Years applied for testing (forecasting horizon): 10.0\n",
      "Years applied for training: 62.0 None\n"
     ]
    }
   ],
   "source": [
    "HORIZON = 10\n",
    "\n",
    "countries, data_pd = load_preprocess(\"life-expectancy.csv\")\n",
    "\n",
    "data, train, test = transform_split(data_pd)"
   ]
  },
  {
   "attachments": {},
   "cell_type": "markdown",
   "metadata": {},
   "source": [
    "**Naive Drift**"
   ]
  },
  {
   "cell_type": "code",
   "execution_count": 34,
   "metadata": {},
   "outputs": [
    {
     "name": "stdout",
     "output_type": "stream",
     "text": [
      "fitting models...\n"
     ]
    },
    {
     "name": "stderr",
     "output_type": "stream",
     "text": [
      "100%|██████████| 237/237 [00:00<00:00, 438.48it/s]\n"
     ]
    },
    {
     "name": "stdout",
     "output_type": "stream",
     "text": [
      "extracting sMAPEs...\n",
      "computing sMAPEs...\n"
     ]
    },
    {
     "data": {
      "image/png": "[encoded data removed]",
      "text/plain": [
       "<Figure size 640x480 with 1 Axes>"
      ]
     },
     "metadata": {},
     "output_type": "display_data"
    }
   ],
   "source": [
    "naive_smapes, naive_time, naive_smapes_pr_country, naive_highest_smapes = eval_local_model(countries, train, test, NaiveDrift)"
   ]
  },
  {
   "cell_type": "code",
   "execution_count": 44,
   "metadata": {},
   "outputs": [
    {
     "data": {
      "text/plain": [
       "[('Eswatini', 13.911730785413646),\n",
       " ('Syria', 11.192632210736859),\n",
       " ('Zimbabwe', 10.425183250420115),\n",
       " ('Lesotho', 10.086673287589845),\n",
       " ('Yemen', 6.9899656439462134),\n",
       " ('Somalia', 5.528986492563007),\n",
       " ('Oman', 5.031317420648938),\n",
       " ('Namibia', 4.840160791854798),\n",
       " ('Mexico', 4.7340682590118774),\n",
       " ('Mayotte', 4.69834367347323)]"
      ]
     },
     "execution_count": 44,
     "metadata": {},
     "output_type": "execute_result"
    }
   ],
   "source": [
    "naive_highest_smapes"
   ]
  },
  {
   "attachments": {},
   "cell_type": "markdown",
   "metadata": {},
   "source": [
    "**Theta**"
   ]
  },
  {
   "cell_type": "code",
   "execution_count": 35,
   "metadata": {},
   "outputs": [
    {
     "name": "stdout",
     "output_type": "stream",
     "text": [
      "fitting models...\n"
     ]
    },
    {
     "name": "stderr",
     "output_type": "stream",
     "text": [
      "100%|██████████| 237/237 [00:01<00:00, 161.49it/s]\n"
     ]
    },
    {
     "name": "stdout",
     "output_type": "stream",
     "text": [
      "extracting sMAPEs...\n",
      "computing sMAPEs...\n"
     ]
    },
    {
     "data": {
      "image/png": "[encoded data removed]",
      "text/plain": [
       "<Figure size 640x480 with 1 Axes>"
      ]
     },
     "metadata": {},
     "output_type": "display_data"
    }
   ],
   "source": [
    "from darts.models import Theta\n",
    "\n",
    "theta_smapes, theta_time, theta_smapes_pr_country, theta_highest_smapes = eval_local_model(countries, train, test, Theta, theta = 1.5)\n",
    "\n",
    "#Theta = 1.5 corresponds to setting the drift rate for the Theta models generated\n",
    "#A constant value for the gradient magnitude in the scalar field selection operation; \n",
    "#setting theta = 0 leads to only selecting positive gradients while increasing the value to larger constants \n",
    "#selects steeper regions of the landscape where both positive and negative gradients are present. \n",
    "#By default, theorist-darts sets theta = 2.5. \n",
    "#Using different values of theta allows exploration of alternative search spaces during the NAS process, \n",
    "#potentially leading to different optimal architectures depending on the problem domain. \n",
    "#Therefore, changing theta = 1.5 could alter the family of architectures searched, \n",
    "#leading to variations in final performance metrics across runs with differing random seeds and noise."
   ]
  },
  {
   "cell_type": "code",
   "execution_count": 45,
   "metadata": {},
   "outputs": [
    {
     "data": {
      "text/plain": [
       "[('South Sudan', 35.16169049986351),\n",
       " ('Rwanda', 26.061874457619183),\n",
       " ('Sudan', 15.966892866940324),\n",
       " ('Eswatini', 14.603575947320834),\n",
       " ('Burundi', 14.383925678818388),\n",
       " ('Zimbabwe', 11.379583570967919),\n",
       " ('Lesotho', 10.441136349959878),\n",
       " ('Syria', 8.854783422734998),\n",
       " ('Somalia', 8.853118845558134),\n",
       " ('Haiti', 8.351557607115023)]"
      ]
     },
     "execution_count": 45,
     "metadata": {},
     "output_type": "execute_result"
    }
   ],
   "source": [
    "theta_highest_smapes"
   ]
  },
  {
   "attachments": {},
   "cell_type": "markdown",
   "metadata": {},
   "source": [
    "**ARIMA**"
   ]
  },
  {
   "cell_type": "code",
   "execution_count": 36,
   "metadata": {},
   "outputs": [
    {
     "name": "stdout",
     "output_type": "stream",
     "text": [
      "fitting models...\n"
     ]
    },
    {
     "name": "stderr",
     "output_type": "stream",
     "text": [
      "100%|██████████| 237/237 [00:12<00:00, 18.35it/s]\n"
     ]
    },
    {
     "name": "stdout",
     "output_type": "stream",
     "text": [
      "extracting sMAPEs...\n",
      "computing sMAPEs...\n"
     ]
    },
    {
     "data": {
      "image/png": "[encoded data removed]",
      "text/plain": [
       "<Figure size 640x480 with 1 Axes>"
      ]
     },
     "metadata": {},
     "output_type": "display_data"
    }
   ],
   "source": [
    "warnings.filterwarnings(\"ignore\")  # ARIMA generates lots of warnings\n",
    "arima_smapes, arima_time, arima_smapes_pr_country, arima_highest_smapes = eval_local_model(countries, train, test, ARIMA, p=1, d=1, q=1, trend = 't')\n",
    "\n",
    "#p (int) – Order (number of time lags) of the autoregressive model (AR).\n",
    "#d (int) – The order of differentiation; i.e., the number of times the data have had past values subtracted (I).\n",
    "#q (int) – The size of the moving average window (MA).\n",
    "#trend (str) – Parameter controlling the deterministic trend. ‘n’ indicates no trend, ‘c’ a constant term, ‘t’ linear trend in time, and ‘ct’ includes both."
   ]
  },
  {
   "cell_type": "code",
   "execution_count": 46,
   "metadata": {},
   "outputs": [
    {
     "data": {
      "text/plain": [
       "[('Libya', 17.740942691179715),\n",
       " ('Syria', 11.771773970130033),\n",
       " ('Haiti', 10.972496025399051),\n",
       " ('South Africa', 7.6149186756226435),\n",
       " ('Yemen', 5.935603177943033),\n",
       " ('Guatemala', 5.242737485398845),\n",
       " ('North Korea', 4.703037339699344),\n",
       " ('Somalia', 4.357612567702702),\n",
       " ('Jamaica', 4.292707492873628),\n",
       " ('Ethiopia', 4.198051846214197)]"
      ]
     },
     "execution_count": 46,
     "metadata": {},
     "output_type": "execute_result"
    }
   ],
   "source": [
    "arima_highest_smapes"
   ]
  },
  {
   "attachments": {},
   "cell_type": "markdown",
   "metadata": {},
   "source": [
    "**Visual comparison**"
   ]
  },
  {
   "cell_type": "code",
   "execution_count": 37,
   "metadata": {},
   "outputs": [
    {
     "data": {
      "image/png": "[encoded data removed]",
      "text/plain": [
       "<Figure size 600x600 with 1 Axes>"
      ]
     },
     "metadata": {},
     "output_type": "display_data"
    }
   ],
   "source": [
    "smapes = {\n",
    "    \"Näive Drift\": naive_smapes,\n",
    "    \"Theta\": theta_smapes,\n",
    "    \"ARIMA\": arima_smapes,\n",
    "}\n",
    "\n",
    "elapsed_times = {\n",
    "    \"Näive Drift\": naive_time,\n",
    "    \"Theta\": theta_time,\n",
    "    \"ARIMA\": arima_time,\n",
    "}\n",
    "\n",
    "plot_models(elapsed_times, smapes)"
   ]
  },
  {
   "attachments": {},
   "cell_type": "markdown",
   "metadata": {},
   "source": [
    "# Transformer"
   ]
  },
  {
   "attachments": {},
   "cell_type": "markdown",
   "metadata": {},
   "source": [
    "**Splits**\n",
    "\n",
    "Training: 52 years (1950-2001) = 70%\n",
    "\n",
    "Validation: 10 years (2002-2011) = 15%\n",
    "\n",
    "Testing: 10 years (2012-2021) = 15%\n",
    "\n",
    "Forecasting horizon: 10 years.\n",
    "\n",
    "We load the data from DataFrame again to make new splits."
   ]
  },
  {
   "attachments": {},
   "cell_type": "markdown",
   "metadata": {},
   "source": [
    "**Define functions**"
   ]
  },
  {
   "cell_type": "code",
   "execution_count": null,
   "metadata": {},
   "outputs": [],
   "source": [
    "def transform_split_scale(dataframe: pd.DataFrame) -> Tuple[List[TimeSeries], List[TimeSeries],List[TimeSeries],List[TimeSeries]]:\n",
    "    \n",
    "    ''' Transform DataFrame to TimeSeries object. Scale data from 0-1.\n",
    "    Split in train, vald, and test. Return full TimeSeries object, train TimeSeries object, and test TimeSeries object. '''\n",
    "\n",
    "    #To timeseries\n",
    "    dataset_ts = TimeSeries.from_group_dataframe(df=data_pd, \n",
    "                                             group_cols=['Country'],\n",
    "                                             time_col='Year', \n",
    "                                             value_cols='LE')\n",
    "\n",
    "    #Scale\n",
    "    scaler_f = Scaler(scaler=MaxAbsScaler())\n",
    "    data_scaled = scaler_f.fit_transform(dataset_ts)\n",
    "\n",
    "    # Split train/val/test\n",
    "    print(\"splitting train/val/test...\")\n",
    "    train: List[TimeSeries] = [s[:-2*HORIZON] for s in data_scaled]\n",
    "    val: List[TimeSeries] = [s[-2*HORIZON:-HORIZON] for s in data_scaled]\n",
    "    test: List[TimeSeries] = [s[-HORIZON:] for s in data_scaled]\n",
    "\n",
    "    print(\"There are in total {} series\".format(len(train))),\n",
    "    print(\"Years applied for training: {}\".format(np.mean([len(s) for s in train])),\n",
    "    print(\"Years applied for validation (forecasting horizon): {}\".format(np.mean([len(s) for s in val])),\n",
    "    print(\"Years applied for testing (forecasting horizon): {}\".format(np.mean([len(s) for s in test]))\n",
    "        )\n",
    "    )\n",
    "    )\n",
    "    return data_scaled, train, val, test\n",
    "\n",
    "#def eval_model(preds, name, true_data, val_or_test_set):\n",
    "#    ''' Extract sMAPEs for predictions on test set. Plot actual versus prediction.'''\n",
    "#    \n",
    "#    smapes = smape(preds, test_set)\n",
    "#    print(\"{} sMAPE: {:.2f} +- {:.2f}\".format(name, np.mean(smapes), np.std(smapes)))\n",
    "#    \n",
    "#    #select some arbitrary time-series to plot\n",
    "#    for i in [10, 50, 100, 150]:\n",
    "#        plt.figure(figsize=(15, 5))\n",
    "#        true_data[i].plot()\n",
    "#        val_or_test_set[i].plot(label=\"actual\")\n",
    "#        preds[i].plot(label=\"forecast\")\n",
    "\n",
    "def eval_model(preds, name, true_data, val_or_test_set):\n",
    "    ''' Extract sMAPEs for predictions on test set. Plot actual versus prediction.'''\n",
    "    \n",
    "    smapes = smape(preds, val_or_test_set)\n",
    "    print(\"{} sMAPE: {:.2f} +- {:.2f}\".format(name, np.mean(smapes), np.std(smapes)))\n",
    "\n",
    "    #Extract sMAPES per time-series and time-series with highest sMAPEs\n",
    "    smapes_pr_country = list(zip(countries, smapes))\n",
    "    highest_smapes = heapq.nlargest(10, smapes_pr_country, key=lambda x: x[1])\n",
    "    \n",
    "    plt.figure(figsize=(15, 5))\n",
    "    #true_data[10].plot(label=\"True Data\")  # Plot an arbitrary time-series (change index as needed)\n",
    "    \n",
    "    for i in [10, 50, 100, 150]:\n",
    "        true_data[i].plot()\n",
    "        val_or_test_set[i].plot(label=\"Actual\")  # Plot actual data\n",
    "        preds[i].plot(label=\"Forecast\")  # Plot forecast data\n",
    "\n",
    "    plt.xlabel(\"Time\")\n",
    "    plt.ylabel(\"Value\")\n",
    "    plt.title(\"Actual vs. Forecast\")\n",
    "    plt.legend()\n",
    "    plt.show()\n",
    "\n",
    "    return smapes_pr_country, highest_smapes\n"
   ]
  },
  {
   "attachments": {},
   "cell_type": "markdown",
   "metadata": {},
   "source": [
    "**Preprocess data**"
   ]
  },
  {
   "cell_type": "code",
   "execution_count": 39,
   "metadata": {},
   "outputs": [
    {
     "name": "stdout",
     "output_type": "stream",
     "text": [
      "splitting train/val/test...\n",
      "There are in total 237 series\n",
      "Years applied for testing (forecasting horizon): 10.0\n",
      "Years applied for validation (forecasting horizon): 10.0 None\n",
      "Years applied for training: 52.0 None\n"
     ]
    }
   ],
   "source": [
    "#Define horizon\n",
    "HORIZON = 10\n",
    "\n",
    "#Load\n",
    "data_scaled, train_scaled, val_scaled, test_scaled = transform_split_scale(data_pd)"
   ]
  },
  {
   "cell_type": "code",
   "execution_count": 5,
   "metadata": {},
   "outputs": [],
   "source": [
    "##CURRENTLY NOT USED\n",
    "\n",
    "def eval_forecasts(\n",
    "    name,\n",
    "    pred_series: List[TimeSeries], \n",
    "    test_or_val_series: List[TimeSeries],\n",
    ") -> List[float]:\n",
    "\n",
    "    print(\"computing sMAPEs...\")\n",
    "    smapes = smape(test_or_val_series, pred_series)\n",
    "    plt.figure()\n",
    "    plt.hist(smapes, bins=50)\n",
    "    plt.ylabel(\"Count\")\n",
    "    plt.xlabel(\"sMAPE\")\n",
    "    #plt.title(\"Median sMAPE: %.3f\" % np.median(smapes).format(name))\n",
    "    plt.title(\"{} sMAPE: {:.2f} +- {:.2f}\".format(name, np.mean(smapes), np.std(smapes)))\n",
    "    plt.show()\n",
    "    plt.close()\n",
    "    return smapes\n",
    "\n",
    "## CURRENTLY NOT USED ##\n",
    "\n",
    "def eval_model(preds, name, train_set=train_scaled, val_set=val_scaled):\n",
    "    smapes = smape(preds, val_set)\n",
    "    print(\"{} sMAPE: {:.2f} +- {:.2f}\".format(name, np.mean(smapes), np.std(smapes)))\n",
    "\n",
    "    for i in [10, 50, 100, 150, 250, 350]:\n",
    "        plt.figure(figsize=(15, 5))\n",
    "        train_set[i][-7 * DAY_DURATION :].plot()\n",
    "        val_set[i].plot(label=\"actual\")\n",
    "        preds[i].plot(label=\"forecast\")\n",
    "\n",
    "def eval_global_model(\n",
    "    country_list: List[str],\n",
    "    train_series: List[TimeSeries], \n",
    "    test_series: List[TimeSeries], \n",
    "    model_cls, \n",
    "    **kwargs\n",
    ") -> Tuple[List[float], float]:\n",
    "\n",
    "    start_time = time.time()\n",
    "\n",
    "    model = model_cls(**kwargs)\n",
    "    print(\"fitting model...\")\n",
    "    model.fit(train_series)\n",
    "    print(\"predicting...\")\n",
    "    preds = model.predict(n=HORIZON, series=train_series)\n",
    "\n",
    "    elapsed_time = time.time() - start_time\n",
    "\n",
    "    print(\"computing sMAPES...\")\n",
    "    smapes = eval_forecasts(preds, test_series)\n",
    "    smapes_pr_country = list(zip(countries, smapes))\n",
    "    highest_smapes = heapq.nlargest(10, smapes_pr_country, key=lambda x: x[1])\n",
    "\n",
    "    return smapes, elapsed_time, smapes_pr_country, highest_smapes"
   ]
  },
  {
   "cell_type": "code",
   "execution_count": null,
   "metadata": {},
   "outputs": [],
   "source": [
    "## CURRENTLY NOT USED\n",
    "#transformer_smapes, transformer_elapsed_time, transformer_smapes_pr_country, transformer_highest_smapes = eval_global_model(countries, train, test, TransformerModel, input_chunk_length = 9, output_chunk_length = 1)"
   ]
  },
  {
   "attachments": {},
   "cell_type": "markdown",
   "metadata": {},
   "source": [
    "**Define and train transformer** "
   ]
  },
  {
   "cell_type": "code",
   "execution_count": 40,
   "metadata": {},
   "outputs": [],
   "source": [
    "def build_fit_model(\n",
    "    IN_LEN,\n",
    "    OUT_LEN,\n",
    "    D_MODEL,\n",
    "    N_HEAD,\n",
    "    likelihood=None,\n",
    "    callbacks=None,\n",
    "    data = List[TimeSeries],\n",
    "):\n",
    "\n",
    "    # reproducibility\n",
    "    torch.manual_seed(42)\n",
    "\n",
    "    # some fixed parameters\n",
    "    BATCH_SIZE = 16 #Number of time series (input and output sequences) used in each training pass. Default: 32.\n",
    "    MAX_N_EPOCHS = 30 #Max number of epoch if early stopping not applied\n",
    "    NR_EPOCHS_VAL_PERIOD = 1 #Number of epochs to wait before evaluating the validation loss\n",
    "    #MAX_SAMPLES_PER_TS = 72 skipped as series are short\n",
    "    ENCODER_LAYERS = 2 #few bc univariate and no seasonality - default 3\n",
    "    DECODER_LAYERS = 2 #few bc univariate and no seasonality - default 3\n",
    "    DIM_FEEDFORWARD = 128 #The dimension of the feedforward network model (default=512).\n",
    "\n",
    "    # throughout training we'll monitor the validation loss for early stopping\n",
    "    early_stopper = EarlyStopping(\"val_loss\", min_delta=0.05, patience=3, verbose=True)\n",
    "    if callbacks is None:\n",
    "        callbacks = [early_stopper]\n",
    "    else:\n",
    "        callbacks = [early_stopper] + callbacks\n",
    "\n",
    "    model = TransformerModel(\n",
    "        input_chunk_length=IN_LEN,\n",
    "        output_chunk_length=OUT_LEN,\n",
    "        batch_size=BATCH_SIZE,\n",
    "        n_epochs=MAX_N_EPOCHS,\n",
    "        model_name=\"transformer_model\",\n",
    "        nr_epochs_val_period=NR_EPOCHS_VAL_PERIOD,\n",
    "        d_model=D_MODEL,\n",
    "        nhead=N_HEAD,\n",
    "        num_encoder_layers=ENCODER_LAYERS,\n",
    "        num_decoder_layers=DECODER_LAYERS,\n",
    "        dim_feedforward=DIM_FEEDFORWARD,\n",
    "        dropout=0.1,\n",
    "        activation=\"relu\",\n",
    "        random_state=42,\n",
    "        #optimizer_kwargs={\"lr\": lr}\n",
    "        save_checkpoints=True, #save the best model and discard the rest (I think)\n",
    "        force_reset=True,\n",
    "    )\n",
    "\n",
    "    # when validating during training, we can use a slightly longer validation set \n",
    "    # which also contains the first input_chunk_length time steps\n",
    "    model_val_set = [s[-((2 * HORIZON) + IN_LEN) : -HORIZON] for s in data_scaled]\n",
    "\n",
    "    # train the model\n",
    "    print(\"fitting model...\")\n",
    "    model.fit(\n",
    "        series=train_scaled,\n",
    "        val_series=model_val_set,\n",
    "        #max_samples_per_ts=MAX_SAMPLES_PER_TS,\n",
    "    )\n",
    "\n",
    "    # reload best model over course of training\n",
    "    print(\"loading best model...\")\n",
    "    best_model = model.load_from_checkpoint(\"transformer_model\")\n",
    "\n",
    "    return best_model"
   ]
  },
  {
   "attachments": {},
   "cell_type": "markdown",
   "metadata": {},
   "source": [
    "**Fit model**"
   ]
  },
  {
   "cell_type": "code",
   "execution_count": null,
   "metadata": {},
   "outputs": [],
   "source": [
    "model = build_fit_model(\n",
    "    IN_LEN = 10,\n",
    "    OUT_LEN = 10,\n",
    "    D_MODEL = 32, #low value since it is hard to learn a high-dimensional representation from an univariate time series\n",
    "    N_HEAD = 16, #increase from default = 8. we compute multi-head attention with 16 heads of size d_model/nhead=32/16=2 each = low-dimensional heads that are hopefully suitable to learn from univariate time series\n",
    "    data = data_scaled,\n",
    "    )"
   ]
  },
  {
   "attachments": {},
   "cell_type": "markdown",
   "metadata": {},
   "source": [
    "**Forecast on validation horizon**"
   ]
  },
  {
   "cell_type": "code",
   "execution_count": 83,
   "metadata": {},
   "outputs": [
    {
     "data": {
      "application/vnd.jupyter.widget-view+json": {
       "model_id": "a64ffd1df7bc48d4ae21951f38a87e10",
       "version_major": 2,
       "version_minor": 0
      },
      "text/plain": [
       "Predicting: 0it [00:00, ?it/s]"
      ]
     },
     "metadata": {},
     "output_type": "display_data"
    },
    {
     "name": "stdout",
     "output_type": "stream",
     "text": [
      "computing sMAPEs...\n"
     ]
    },
    {
     "data": {
      "image/png": "[encoded data removed]",
      "text/plain": [
       "<Figure size 640x480 with 1 Axes>"
      ]
     },
     "metadata": {},
     "output_type": "display_data"
    },
    {
     "data": {
      "text/plain": [
       "[1.7851256334618808,\n",
       " 0.9335522996833762,\n",
       " 0.6558983691462213,\n",
       " 1.9268954853627112,\n",
       " 1.6689552413130377,\n",
       " 6.595267515593601,\n",
       " 1.7310282326734272,\n",
       " 0.481527796964266,\n",
       " 0.8695703164614571,\n",
       " 0.5330296885237893,\n",
       " 0.6537634122557945,\n",
       " 0.3776008458242432,\n",
       " 0.9983733433698053,\n",
       " 1.0008442573743912,\n",
       " 1.342822962869063,\n",
       " 0.9572800942812556,\n",
       " 1.8176884497568047,\n",
       " 0.46614756340792546,\n",
       " 1.1194856780762061,\n",
       " 0.7056790176009704,\n",
       " 1.3256902664015298,\n",
       " 0.8025517915670775,\n",
       " 1.3263724900998008,\n",
       " 1.6245025112558593,\n",
       " 1.0963876933811256,\n",
       " 0.6365971015233447,\n",
       " 1.9518552642719642,\n",
       " 4.373103418131598,\n",
       " 0.9032454553426064,\n",
       " 1.4769599534218507,\n",
       " 2.430935527062094,\n",
       " 0.8383452265721171,\n",
       " 2.3027070756017034,\n",
       " 3.517302007125759,\n",
       " 4.409831598051032,\n",
       " 0.9202946899722958,\n",
       " 0.7561576532394328,\n",
       " 1.1432175117539138,\n",
       " 1.8410274884081979,\n",
       " 2.0997824077343017,\n",
       " 1.3737437585151373,\n",
       " 0.7687204836536274,\n",
       " 0.6656953795754689,\n",
       " 0.9996861180964175,\n",
       " 1.1956687112023463,\n",
       " 4.137459222739158,\n",
       " 1.1400782643211897,\n",
       " 1.7254325735090024,\n",
       " 1.8044654668495057,\n",
       " 0.6277293101126944,\n",
       " 2.0219868495216806,\n",
       " 0.6021119549067344,\n",
       " 0.71144448487813,\n",
       " 0.8212426121296977,\n",
       " 1.553745326225532,\n",
       " 0.5521956179797874,\n",
       " 0.8816309497980728,\n",
       " 1.2856702560782136,\n",
       " 0.8806271676459209,\n",
       " 0.7068553044876793,\n",
       " 0.44210013492402034,\n",
       " 1.1185884733555937,\n",
       " 1.4173157861440178,\n",
       " 3.317347274267296,\n",
       " 1.0202967587060707,\n",
       " 19.0371573915076,\n",
       " 3.9177129749202093,\n",
       " 0.9525189997818172,\n",
       " 1.9736806334638277,\n",
       " 1.2031434779121695,\n",
       " 0.5929189477881334,\n",
       " 1.1023298040815939,\n",
       " 0.9938494881842899,\n",
       " 0.4203649972167383,\n",
       " 0.89996071258818,\n",
       " 1.2631145390529464,\n",
       " 0.9074106692874975,\n",
       " 0.8841230061914739,\n",
       " 0.6073970873205986,\n",
       " 1.0019645977862928,\n",
       " 1.16968754175071,\n",
       " 0.7781282603702503,\n",
       " 1.5970197199763856,\n",
       " 0.6341905591776426,\n",
       " 2.2282224147331524,\n",
       " 0.7195092055206469,\n",
       " 1.650388481593585,\n",
       " 1.2722801729710698,\n",
       " 2.319298520657088,\n",
       " 0.8249362346370235,\n",
       " 3.882016001267987,\n",
       " 0.6294984104255034,\n",
       " 0.4502756985972466,\n",
       " 0.6063300274630572,\n",
       " 1.315698276310637,\n",
       " 0.7974856611531318,\n",
       " 0.7288400700686197,\n",
       " 0.8728163678331881,\n",
       " 4.131669503550035,\n",
       " 0.9206552889174361,\n",
       " 1.4523632851188586,\n",
       " 1.025253126282501,\n",
       " 0.9260012247285353,\n",
       " 0.7632575154195789,\n",
       " 0.5859282499095962,\n",
       " 1.6341569516416794,\n",
       " 0.4472387479084348,\n",
       " 1.3556277300422817,\n",
       " 2.8816879012495007,\n",
       " 0.36338639909313253,\n",
       " 1.1745484541652962,\n",
       " 0.39039905472117814,\n",
       " 0.9313390548342009,\n",
       " 1.3807473431187556,\n",
       " 1.0150462445768307,\n",
       " 1.1800349840493611,\n",
       " 18.253674318447814,\n",
       " 4.240898069536476,\n",
       " 1.4002902975815812,\n",
       " 1.1101042186788497,\n",
       " 1.2275763264381478,\n",
       " 0.8098187853188985,\n",
       " 0.5079550094182391,\n",
       " 1.543713855095236,\n",
       " 9.322797020835887,\n",
       " 1.0028114196547397,\n",
       " 1.622005910844327,\n",
       " 2.3856663869950636,\n",
       " 0.6379299390363855,\n",
       " 0.5463073876573179,\n",
       " 1.2779448107601876,\n",
       " 0.8515915086399612,\n",
       " 0.870313730765723,\n",
       " 1.717924631076426,\n",
       " 2.04924161697448,\n",
       " 1.878938225886502,\n",
       " 1.1895823709365367,\n",
       " 1.1615731469820767,\n",
       " 0.783806986800756,\n",
       " 0.7517183554272826,\n",
       " 1.256193338085899,\n",
       " 0.8913852831568323,\n",
       " 1.3349367406978614,\n",
       " 1.8000327873225945,\n",
       " 5.449440090717448,\n",
       " 2.890986549035767,\n",
       " 1.2256566679375158,\n",
       " 1.125369592529059,\n",
       " 0.6122366980958789,\n",
       " 0.6745401245368208,\n",
       " 1.9067454310167424,\n",
       " 3.914757306243489,\n",
       " 1.5794809551910243,\n",
       " 1.0870033866166355,\n",
       " 5.799288547202715,\n",
       " 0.5028643806402214,\n",
       " 2.5356699261578597,\n",
       " 0.6182138028537039,\n",
       " 0.7410715298688336,\n",
       " 0.6276047329350842,\n",
       " 1.7245306804188743,\n",
       " 0.6067478253548289,\n",
       " 1.1178439110825074,\n",
       " 1.2383791559271309,\n",
       " 0.584609027395378,\n",
       " 0.780791201259848,\n",
       " 0.8162810708807372,\n",
       " 0.6658638441335971,\n",
       " 1.0382976163408113,\n",
       " 0.3639702638344,\n",
       " 0.8435786431924086,\n",
       " 0.9763792291471991,\n",
       " 1.9179604080473478,\n",
       " 1.6014977887060133,\n",
       " 9.637149480035616,\n",
       " 0.4665660142766339,\n",
       " 1.7560685693768043,\n",
       " 2.2739255228067665,\n",
       " 1.7522248767266955,\n",
       " 0.39310030066054286,\n",
       " 1.1122812523914847,\n",
       " 2.037800238212948,\n",
       " 1.7936065550925386,\n",
       " 1.6208717307862668,\n",
       " 0.6810755737063977,\n",
       " 1.091414016822918,\n",
       " 3.146240551675139,\n",
       " 0.6174486829729762,\n",
       " 1.2477665730096303,\n",
       " 4.003767534350676,\n",
       " 0.7421427954643882,\n",
       " 0.8456211076645727,\n",
       " 0.45764220134943984,\n",
       " 0.9268974997711569,\n",
       " 0.3982927719114895,\n",
       " 4.3835293463797536,\n",
       " 8.717836705843897,\n",
       " 0.9237161856662419,\n",
       " 8.381565964602048,\n",
       " 0.7496745740029394,\n",
       " 2.3232157552870216,\n",
       " 2.526765190986102,\n",
       " 1.448666361961264,\n",
       " 0.7184262202976068,\n",
       " 0.7864137703251574,\n",
       " 2.262569344805264,\n",
       " 0.611468596656271,\n",
       " 0.7311787256316294,\n",
       " 2.635776386428553,\n",
       " 0.9575156064354065,\n",
       " 2.858463600211467,\n",
       " 0.9182779445323992,\n",
       " 0.8858719212192138,\n",
       " 1.501109545420225,\n",
       " 1.107951426620739,\n",
       " 1.6580619536984469,\n",
       " 0.5416655544517168,\n",
       " 1.0815910172598933,\n",
       " 2.3529273023549604,\n",
       " 1.7221959261342135,\n",
       " 4.840191526343822,\n",
       " 1.8015511766969285,\n",
       " 1.4039660478087388,\n",
       " 0.9614551055762265,\n",
       " 1.6152994009809476,\n",
       " 0.5700557794546232,\n",
       " 0.8304232510542149,\n",
       " 0.8441816886709582,\n",
       " 1.5570835193950283,\n",
       " 0.6284931589317854,\n",
       " 2.0342844767399084,\n",
       " 0.52257654072739,\n",
       " 0.8077155330570697,\n",
       " 1.108791251441224,\n",
       " 2.526245508466432,\n",
       " 7.907421467482193,\n",
       " 6.501548386743114]"
      ]
     },
     "execution_count": 83,
     "metadata": {},
     "output_type": "execute_result"
    }
   ],
   "source": [
    "preds_transformer = model.predict(series=train_scaled, n=HORIZON)\n",
    "eval_forecasts(\"Transformer (not tuned)\", preds_transformer, val_scaled)"
   ]
  },
  {
   "attachments": {},
   "cell_type": "markdown",
   "metadata": {},
   "source": [
    "# Hyperparameter optimization"
   ]
  },
  {
   "attachments": {},
   "cell_type": "markdown",
   "metadata": {},
   "source": [
    "**Define function for optimization**"
   ]
  },
  {
   "cell_type": "code",
   "execution_count": 22,
   "metadata": {},
   "outputs": [],
   "source": [
    "def objective(trial):\n",
    "    callback = [PyTorchLightningPruningCallback(trial, monitor=\"val_loss\")]\n",
    "\n",
    "    # set input_chunk_length, 4 and 10 years\n",
    "    in_len = trial.suggest_int(\"years_in\", 4, 10)\n",
    "\n",
    "    # set out_len, between 1 and 9 years (it has to be strictly shorter than in_len).\n",
    "    out_len = trial.suggest_int(\"years_out\", 1, 9)\n",
    "\n",
    "    # Other hyperparameters\n",
    "    d_model = trial.suggest_int(\"D_MODEL\", 16, 128)\n",
    "    n_head = trial.suggest_int(\"N_HEAD\", 2, 8)\n",
    "\n",
    "    # build and train the model with these hyper-parameters:\n",
    "    model = build_fit_model(\n",
    "        IN_LEN =in_len,\n",
    "        OUT_LEN =out_len,\n",
    "        D_MODEL = d_model,\n",
    "        N_HEAD = n_head,\n",
    "        data = data_scaled,\n",
    "    )\n",
    "\n",
    "    # Evaluate how good it is on the validation set\n",
    "    preds = model.predict(series=train_scaled, n=HORIZON)\n",
    "    smapes = smape(val_scaled, preds, n_jobs=-1, verbose=True)\n",
    "    smape_val = np.mean(smapes)\n",
    "\n",
    "    return smape_val if smape_val != np.nan else float(\"inf\")"
   ]
  },
  {
   "attachments": {},
   "cell_type": "markdown",
   "metadata": {},
   "source": [
    "**Optimize**"
   ]
  },
  {
   "cell_type": "code",
   "execution_count": null,
   "metadata": {},
   "outputs": [],
   "source": [
    "def print_callback(study, trial):\n",
    "    print(f\"Current value: {trial.value}, Current params: {trial.params}\")\n",
    "    print(f\"Best value: {study.best_value}, Best params: {study.best_trial.params}\")\n",
    "\n",
    "study = optuna.create_study(direction=\"minimize\")\n",
    "\n",
    "study.optimize(objective, timeout=7200, callbacks=[print_callback])\n",
    "\n",
    "# We could also have used a command as follows to limit the number of trials instead:\n",
    "#study.optimize(objective, n_trials=100, callbacks=[print_callback])\n",
    "\n",
    "# Finally, print the best value and best hyperparameters:\n",
    "print(f\"Best value: {study.best_value}, Best params: {study.best_trial.params}\")"
   ]
  },
  {
   "attachments": {},
   "cell_type": "markdown",
   "metadata": {},
   "source": [
    "# Transformer, tuned\n",
    "\n",
    "Best value: 1.302255380588254\n",
    "\n",
    "Best params: {'years_in': 9, 'years_out': 3, 'D_MODEL': 120, 'N_HEAD': 3}"
   ]
  },
  {
   "cell_type": "code",
   "execution_count": null,
   "metadata": {},
   "outputs": [],
   "source": [
    "best_model = build_fit_model(\n",
    "    IN_LEN = 9,\n",
    "    OUT_LEN = 3,\n",
    "    D_MODEL = 120, \n",
    "    N_HEAD = 3,\n",
    "    data = data_scaled,\n",
    "    )"
   ]
  },
  {
   "cell_type": "code",
   "execution_count": 43,
   "metadata": {},
   "outputs": [
    {
     "data": {
      "application/vnd.jupyter.widget-view+json": {
       "model_id": "bd2513a8dfae4cdc9fdb6ce8962b6429",
       "version_major": 2,
       "version_minor": 0
      },
      "text/plain": [
       "Predicting: 0it [00:00, ?it/s]"
      ]
     },
     "metadata": {},
     "output_type": "display_data"
    },
    {
     "name": "stdout",
     "output_type": "stream",
     "text": [
      "computing sMAPEs...\n"
     ]
    },
    {
     "data": {
      "image/png": "[encoded data removed]",
      "text/plain": [
       "<Figure size 640x480 with 1 Axes>"
      ]
     },
     "metadata": {},
     "output_type": "display_data"
    },
    {
     "data": {
      "text/plain": [
       "[0.8753624329811135,\n",
       " 0.43436462367233764,\n",
       " 0.7314796267026134,\n",
       " 1.2771705089855838,\n",
       " 1.1626823417866456,\n",
       " 3.279186099753227,\n",
       " 0.9473939693407867,\n",
       " 0.366729532562175,\n",
       " 0.4107651450778585,\n",
       " 0.7002065256937781,\n",
       " 0.5702611173905747,\n",
       " 0.5208912350403521,\n",
       " 0.44772344365823935,\n",
       " 0.39356067656250127,\n",
       " 0.6024974827443791,\n",
       " 0.5270616745027022,\n",
       " 1.883824946746112,\n",
       " 0.2900691800361475,\n",
       " 1.5468538413789747,\n",
       " 0.30226550491339965,\n",
       " 0.7612672440482251,\n",
       " 1.1908302922366505,\n",
       " 1.437284942099207,\n",
       " 0.42821002538081937,\n",
       " 0.3471268709495526,\n",
       " 0.4057022638161232,\n",
       " 1.2656622173361272,\n",
       " 2.4351649030921876,\n",
       " 0.33830099003398506,\n",
       " 0.8895249386635529,\n",
       " 1.5829370796649311,\n",
       " 0.4176558019562313,\n",
       " 0.9413051909327116,\n",
       " 2.4564314042024655,\n",
       " 2.519637733831238,\n",
       " 1.7377467456650537,\n",
       " 0.3939975420329477,\n",
       " 0.512416874339639,\n",
       " 1.2078145935388305,\n",
       " 2.495407691146794,\n",
       " 2.2181502638235533,\n",
       " 0.31300491517792506,\n",
       " 0.43496637857710596,\n",
       " 0.3565293266032614,\n",
       " 1.7911761494349434,\n",
       " 2.330472254143852,\n",
       " 0.5301855224447544,\n",
       " 1.017253441700339,\n",
       " 1.7174052551516317,\n",
       " 0.5099855682384816,\n",
       " 1.2440544673007268,\n",
       " 0.3881439193234129,\n",
       " 0.3501373666642393,\n",
       " 0.4317376213674002,\n",
       " 0.7033171607667222,\n",
       " 0.4985713371599695,\n",
       " 0.7129241849841759,\n",
       " 0.9850320357818384,\n",
       " 0.3601695355618102,\n",
       " 0.2286416512074966,\n",
       " 0.39121095256755695,\n",
       " 0.6360964115098743,\n",
       " 0.369593234911217,\n",
       " 0.7820372715674974,\n",
       " 0.6729358286620265,\n",
       " 14.665808381092413,\n",
       " 1.5672920609564516,\n",
       " 0.8808231679214586,\n",
       " 1.418299207697904,\n",
       " 0.7201094158999404,\n",
       " 0.31487367497641966,\n",
       " 0.5227709307597822,\n",
       " 0.6238324771723884,\n",
       " 0.6840714965806026,\n",
       " 1.3479943848295368,\n",
       " 0.5888208566571405,\n",
       " 0.3748573017750409,\n",
       " 0.33534697127031754,\n",
       " 0.8097453029076034,\n",
       " 1.153440680675667,\n",
       " 0.5116140103992586,\n",
       " 0.4033966137350538,\n",
       " 1.1218782139293366,\n",
       " 0.5109280947284442,\n",
       " 1.3962932225234292,\n",
       " 0.2696928319679894,\n",
       " 1.0833330036210782,\n",
       " 0.2711860467245686,\n",
       " 0.8129648471576271,\n",
       " 1.0694385053602564,\n",
       " 3.4857398442611385,\n",
       " 0.29878152764185595,\n",
       " 0.7389222176314337,\n",
       " 0.6524209153006028,\n",
       " 0.5461942042088196,\n",
       " 0.6618236702520625,\n",
       " 0.6018664371819025,\n",
       " 0.6479070377821589,\n",
       " 4.86048467905706,\n",
       " 0.23836387723960695,\n",
       " 0.5999032247779262,\n",
       " 0.5085320366184874,\n",
       " 0.3387844199697778,\n",
       " 0.6694526648225935,\n",
       " 0.2792968716678698,\n",
       " 1.0884156132960834,\n",
       " 0.39221851792023127,\n",
       " 1.5175858451484388,\n",
       " 1.588875686977683,\n",
       " 0.9044657945562263,\n",
       " 0.6302433654361622,\n",
       " 0.7071615233153801,\n",
       " 1.3923019266962997,\n",
       " 0.8498109816697501,\n",
       " 1.0000919746303272,\n",
       " 0.5229922623328482,\n",
       " 14.341501254374823,\n",
       " 3.1846532480567777,\n",
       " 1.014606266358552,\n",
       " 0.5171452936599995,\n",
       " 1.5603902112847532,\n",
       " 0.48402996657442765,\n",
       " 0.4421701241224014,\n",
       " 0.41184644777924345,\n",
       " 3.622359901825725,\n",
       " 0.2700550849851936,\n",
       " 0.6940244012795032,\n",
       " 0.8377963970858545,\n",
       " 1.175948259953623,\n",
       " 0.6304022747352702,\n",
       " 0.6179608700361513,\n",
       " 1.3707219859299735,\n",
       " 0.42271595872731843,\n",
       " 0.9869426135950057,\n",
       " 1.2083505714127025,\n",
       " 1.2268915140454004,\n",
       " 0.45050725779646916,\n",
       " 0.8067634803298254,\n",
       " 1.1922614189221814,\n",
       " 0.7124324798092702,\n",
       " 1.1986390724526323,\n",
       " 0.8027963110064373,\n",
       " 2.200333954979931,\n",
       " 2.1105771778515345,\n",
       " 3.3446614079448387,\n",
       " 3.0072471117741593,\n",
       " 0.3364293054244121,\n",
       " 0.5608091498065985,\n",
       " 0.3477509477415921,\n",
       " 0.2588891279888446,\n",
       " 1.2058634203182301,\n",
       " 2.0796853198312664,\n",
       " 0.43951373010204114,\n",
       " 1.536831127175565,\n",
       " 6.12786155485211,\n",
       " 0.8044893946765084,\n",
       " 1.7288308881015206,\n",
       " 0.25291178656362157,\n",
       " 1.023958829075136,\n",
       " 0.9055408330440659,\n",
       " 1.004024596588069,\n",
       " 0.2541842030254359,\n",
       " 0.4589884465924056,\n",
       " 1.7344039436078258,\n",
       " 0.46741213814053734,\n",
       " 0.32420924725553685,\n",
       " 0.24220919127531537,\n",
       " 0.3474976337433844,\n",
       " 0.4615710072171269,\n",
       " 0.4292776434369574,\n",
       " 0.8888714980253376,\n",
       " 0.6713442375739014,\n",
       " 1.8578594453984754,\n",
       " 1.5142668227028788,\n",
       " 7.615421271209258,\n",
       " 0.24880547341804793,\n",
       " 1.0335898435819628,\n",
       " 1.4371527178446108,\n",
       " 1.0630878841615283,\n",
       " 0.40065196668795117,\n",
       " 0.7259866211110305,\n",
       " 1.3875341229772034,\n",
       " 1.0935308876401086,\n",
       " 0.9907079936193613,\n",
       " 0.6312671484270856,\n",
       " 0.36648320588511224,\n",
       " 1.3229040790704176,\n",
       " 0.7809156240144398,\n",
       " 0.6113687159213845,\n",
       " 1.3499696585745953,\n",
       " 0.4058462222776156,\n",
       " 0.5893023212172633,\n",
       " 0.6554601251049034,\n",
       " 0.4462715184276011,\n",
       " 0.39978485476964093,\n",
       " 4.277366685724019,\n",
       " 7.914791693403565,\n",
       " 0.7524932690828258,\n",
       " 5.14269676947318,\n",
       " 0.48584389037364545,\n",
       " 2.5253152376625194,\n",
       " 1.7406790321833097,\n",
       " 0.7119963127366074,\n",
       " 0.2914741452149384,\n",
       " 0.3181068069343424,\n",
       " 1.4608981491850466,\n",
       " 0.45223173912246806,\n",
       " 0.5228276772764767,\n",
       " 0.7886419715438782,\n",
       " 0.8277668538199032,\n",
       " 1.292567586996569,\n",
       " 1.710739149665311,\n",
       " 0.34491611390805343,\n",
       " 0.7935816205725538,\n",
       " 0.5449651677528131,\n",
       " 0.9732983086818529,\n",
       " 0.6817769932175133,\n",
       " 0.6646905533070203,\n",
       " 1.7637985848068207,\n",
       " 0.9579806663986955,\n",
       " 1.851965412374116,\n",
       " 2.326703293268105,\n",
       " 0.7063424635266753,\n",
       " 0.46396209052918064,\n",
       " 0.934890611811953,\n",
       " 0.3362191420673131,\n",
       " 0.25528111008866233,\n",
       " 0.27774917211475314,\n",
       " 0.8001424007047178,\n",
       " 0.37138212550600735,\n",
       " 1.5283544335078003,\n",
       " 0.20199821225658196,\n",
       " 0.6716661069533084,\n",
       " 0.26489092263205755,\n",
       " 1.761793601806716,\n",
       " 2.8547078800396095,\n",
       " 3.2136493245971973]"
      ]
     },
     "execution_count": 43,
     "metadata": {},
     "output_type": "execute_result"
    }
   ],
   "source": [
    "best_preds_transformer = best_model.predict(series=train_scaled, n=HORIZON)\n",
    "eval_forecasts(\"Transformer (tuned)\", best_preds_transformer, val_scaled)"
   ]
  },
  {
   "attachments": {},
   "cell_type": "markdown",
   "metadata": {},
   "source": [
    "**TO DO: Un-scale predictions**"
   ]
  },
  {
   "attachments": {},
   "cell_type": "markdown",
   "metadata": {},
   "source": [
    "**Plot performance on a few selected time-series**"
   ]
  },
  {
   "cell_type": "code",
   "execution_count": 90,
   "metadata": {},
   "outputs": [
    {
     "name": "stdout",
     "output_type": "stream",
     "text": [
      "best model sMAPE: 1.18 +- 1.63\n"
     ]
    },
    {
     "data": {
      "image/png": "[encoded data removed]",
      "text/plain": [
       "<Figure size 1500x500 with 1 Axes>"
      ]
     },
     "metadata": {},
     "output_type": "display_data"
    }
   ],
   "source": [
    "train_val_set = [s[:-HORIZON] for s in data_scaled]\n",
    "\n",
    "eval_model(\n",
    "    best_preds_transformer,\n",
    "    \"best model\",\n",
    "    true_data=train_val_set,\n",
    "    val_or_test_set=val_scaled,\n",
    ")"
   ]
  },
  {
   "cell_type": "code",
   "execution_count": 30,
   "metadata": {},
   "outputs": [
    {
     "data": {
      "application/vnd.jupyter.widget-view+json": {
       "model_id": "bc9561f21ff94e158db6a2e87a28da1f",
       "version_major": 2,
       "version_minor": 0
      },
      "text/plain": [
       "Predicting: 0it [00:00, ?it/s]"
      ]
     },
     "metadata": {},
     "output_type": "display_data"
    }
   ],
   "source": [
    "best_preds_transformer_test = best_model.predict(series=test_scaled, n=HORIZON)"
   ]
  },
  {
   "cell_type": "code",
   "execution_count": 53,
   "metadata": {},
   "outputs": [
    {
     "ename": "TypeError",
     "evalue": "eval_model() got an unexpected keyword argument 'train_val_set'",
     "output_type": "error",
     "traceback": [
      "\u001b[0;31m---------------------------------------------------------------------------\u001b[0m",
      "\u001b[0;31mTypeError\u001b[0m                                 Traceback (most recent call last)",
      "Cell \u001b[0;32mIn[53], line 3\u001b[0m\n\u001b[1;32m      1\u001b[0m train_val_set \u001b[39m=\u001b[39m [s[:\u001b[39m-\u001b[39mHORIZON] \u001b[39mfor\u001b[39;00m s \u001b[39min\u001b[39;00m data_scaled]\n\u001b[0;32m----> 3\u001b[0m eval_model(\n\u001b[1;32m      4\u001b[0m     best_preds_transformer_test,\n\u001b[1;32m      5\u001b[0m     \u001b[39m\"\u001b[39;49m\u001b[39mbest model, on test set\u001b[39;49m\u001b[39m\"\u001b[39;49m,\n\u001b[1;32m      6\u001b[0m     train_val_set\u001b[39m=\u001b[39;49mdata_scaled,\n\u001b[1;32m      7\u001b[0m     test_set\u001b[39m=\u001b[39;49mtest_scaled,\n\u001b[1;32m      8\u001b[0m )\n",
      "\u001b[0;31mTypeError\u001b[0m: eval_model() got an unexpected keyword argument 'train_val_set'"
     ]
    }
   ],
   "source": [
    "train_val_set = [s[:-HORIZON] for s in data_scaled]\n",
    "\n",
    "eval_model(\n",
    "    best_preds_transformer_test,\n",
    "    \"best model, on test set\",\n",
    "    train_val_set=data_scaled,\n",
    "    test_set=test_scaled,\n",
    ")"
   ]
  },
  {
   "cell_type": "code",
   "execution_count": null,
   "metadata": {},
   "outputs": [],
   "source": []
  }
 ],
 "metadata": {
  "kernelspec": {
   "display_name": "Python 3",
   "language": "python",
   "name": "python3"
  },
  "language_info": {
   "codemirror_mode": {
    "name": "ipython",
    "version": 3
   },
   "file_extension": ".py",
   "mimetype": "text/x-python",
   "name": "python",
   "nbconvert_exporter": "python",
   "pygments_lexer": "ipython3",
   "version": "3.10.7"
  },
  "orig_nbformat": 4
 },
 "nbformat": 4,
 "nbformat_minor": 2
}
